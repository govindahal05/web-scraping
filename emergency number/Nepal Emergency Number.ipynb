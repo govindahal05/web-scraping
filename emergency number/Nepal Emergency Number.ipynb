{
 "cells": [
  {
   "cell_type": "code",
   "execution_count": 5,
   "metadata": {},
   "outputs": [],
   "source": [
    "import requests\n",
    "from bs4 import BeautifulSoup\n",
    "import csv\n",
    "base_url = \"https://www.nepalpolice.gov.np/index.php/safety-security-tips/emergency-numbers\"\n",
    "response = requests.get(base_url)"
   ]
  },
  {
   "cell_type": "code",
   "execution_count": 6,
   "metadata": {},
   "outputs": [
    {
     "data": {
      "text/plain": [
       "<Response [200]>"
      ]
     },
     "execution_count": 6,
     "metadata": {},
     "output_type": "execute_result"
    }
   ],
   "source": [
    "response"
   ]
  },
  {
   "cell_type": "code",
   "execution_count": 7,
   "metadata": {},
   "outputs": [],
   "source": [
    "data = BeautifulSoup(response.content,'lxml')"
   ]
  },
  {
   "cell_type": "code",
   "execution_count": 8,
   "metadata": {},
   "outputs": [
    {
     "data": {
      "text/plain": [
       "'Emergency Numbers'"
      ]
     },
     "execution_count": 8,
     "metadata": {},
     "output_type": "execute_result"
    }
   ],
   "source": [
    "data.title.text"
   ]
  },
  {
   "cell_type": "code",
   "execution_count": 9,
   "metadata": {},
   "outputs": [],
   "source": [
    "tables = data.find_all(\"table\")"
   ]
  },
  {
   "cell_type": "code",
   "execution_count": 10,
   "metadata": {},
   "outputs": [
    {
     "ename": "NameError",
     "evalue": "name 'tables1' is not defined",
     "output_type": "error",
     "traceback": [
      "\u001b[0;31m---------------------------------------------------------------------------\u001b[0m",
      "\u001b[0;31mNameError\u001b[0m                                 Traceback (most recent call last)",
      "\u001b[0;32m<ipython-input-10-244a539ddbf6>\u001b[0m in \u001b[0;36m<module>\u001b[0;34m\u001b[0m\n\u001b[0;32m----> 1\u001b[0;31m \u001b[0mtables1\u001b[0m\u001b[0;34m\u001b[0m\u001b[0;34m\u001b[0m\u001b[0m\n\u001b[0m",
      "\u001b[0;31mNameError\u001b[0m: name 'tables1' is not defined"
     ]
    }
   ],
   "source": [
    "tables1"
   ]
  },
  {
   "cell_type": "code",
   "execution_count": 11,
   "metadata": {},
   "outputs": [
    {
     "data": {
      "text/plain": [
       "3"
      ]
     },
     "execution_count": 11,
     "metadata": {},
     "output_type": "execute_result"
    }
   ],
   "source": [
    "len(tables)"
   ]
  },
  {
   "cell_type": "code",
   "execution_count": 12,
   "metadata": {},
   "outputs": [],
   "source": [
    "rows = tables[1].find_all(\"tr\")"
   ]
  },
  {
   "cell_type": "code",
   "execution_count": 15,
   "metadata": {},
   "outputs": [
    {
     "data": {
      "text/plain": [
       "[<tr style=\"text-align: left; background-color: #dddddd;\">\n",
       " <td style=\"text-align: left;\"><span style=\"font-size: 10pt;\"><strong>Name</strong></span></td>\n",
       " <td style=\"text-align: left;\"><span style=\"font-size: 10pt;\"><strong>Telephone Numbers</strong></span></td>\n",
       " </tr>, <tr style=\"text-align: left;\">\n",
       " <td style=\"text-align: left;\"><span style=\"font-size: 10pt;\">Police Control</span></td>\n",
       " <td style=\"text-align: left;\"><span style=\"font-size: 10pt;\">100</span></td>\n",
       " </tr>, <tr style=\"text-align: left; background-color: #eeeeee;\">\n",
       " <td style=\"text-align: left;\"><span style=\"font-size: 10pt;\">Police Emergency Number</span></td>\n",
       " <td style=\"text-align: left;\"><span style=\"font-size: 10pt;\">4228435</span></td>\n",
       " </tr>, <tr style=\"text-align: left;\">\n",
       " <td style=\"text-align: left;\"><span style=\"font-size: 10pt;\">Metropolitan Police Range (Kathmandu)</span></td>\n",
       " <td style=\"text-align: left;\"><span style=\"font-size: 10pt;\">4261945/4261790</span></td>\n",
       " </tr>, <tr style=\"text-align: left; background-color: #eeeeee;\">\n",
       " <td style=\"text-align: left;\"><span style=\"font-size: 10pt;\">Metropolitan Police Range (Lalitpur)</span></td>\n",
       " <td style=\"text-align: left;\"><span style=\"font-size: 10pt;\">5521207</span></td>\n",
       " </tr>, <tr style=\"text-align: left;\">\n",
       " <td style=\"text-align: left;\"><span style=\"font-size: 10pt;\">Metropolitan Police Range (Bhaktapur)</span></td>\n",
       " <td style=\"text-align: left;\"><span style=\"font-size: 10pt;\">6614821</span></td>\n",
       " </tr>, <tr style=\"text-align: left; background-color: #eeeeee;\">\n",
       " <td style=\"text-align: left;\"><span style=\"font-size: 10pt;\">Paropakar Ambulance Service</span></td>\n",
       " <td style=\"text-align: left;\"><span style=\"font-size: 10pt;\">4260859</span></td>\n",
       " </tr>, <tr style=\"text-align: left;\">\n",
       " <td style=\"text-align: left;\"><span style=\"font-size: 10pt;\">Lalitpur Redcross Ambulance Service</span></td>\n",
       " <td style=\"text-align: left;\"><span style=\"font-size: 10pt;\">5545666</span></td>\n",
       " </tr>, <tr style=\"text-align: left; background-color: #eeeeee;\">\n",
       " <td style=\"text-align: left;\"><span style=\"font-size: 10pt;\">Bishal Bazar Ambulance Service</span></td>\n",
       " <td style=\"text-align: left;\"><span style=\"font-size: 10pt;\">4244121</span></td>\n",
       " </tr>, <tr style=\"text-align: left;\">\n",
       " <td style=\"text-align: left;\"><span style=\"font-size: 10pt;\">Redcross Ambulance Service</span></td>\n",
       " <td style=\"text-align: left;\"><span style=\"font-size: 10pt;\">4228094</span></td>\n",
       " </tr>, <tr style=\"text-align: left; background-color: #eeeeee;\">\n",
       " <td style=\"text-align: left;\"><span style=\"font-size: 10pt;\">Agrawal Sewa Centre</span></td>\n",
       " <td style=\"text-align: left;\">\n",
       " <p><span style=\"font-size: 10pt;\">4424875</span></p>\n",
       " </td>\n",
       " </tr>, <tr>\n",
       " <td><span style=\"font-size: 10pt;\">Aasara Drug Rehabilitation Center</span></td>\n",
       " <td><span style=\"font-size: 10pt;\">01-4384881</span></td>\n",
       " </tr>]"
      ]
     },
     "execution_count": 15,
     "metadata": {},
     "output_type": "execute_result"
    }
   ],
   "source": [
    "rows"
   ]
  },
  {
   "cell_type": "code",
   "execution_count": 14,
   "metadata": {},
   "outputs": [],
   "source": [
    "rows2 = tables[2].find_all(\"tr\")"
   ]
  },
  {
   "cell_type": "code",
   "execution_count": 25,
   "metadata": {},
   "outputs": [
    {
     "data": {
      "text/plain": [
       "33"
      ]
     },
     "execution_count": 25,
     "metadata": {},
     "output_type": "execute_result"
    }
   ],
   "source": [
    "len(rows2)"
   ]
  },
  {
   "cell_type": "code",
   "execution_count": 38,
   "metadata": {},
   "outputs": [],
   "source": [
    "raw_columns, raw_datas, raw_datas2 = rows[0], rows[1:], rows2[1:]"
   ]
  },
  {
   "cell_type": "code",
   "execution_count": 39,
   "metadata": {},
   "outputs": [],
   "source": [
    "columns = [data.text for data in raw_columns.find_all(\"td\")]"
   ]
  },
  {
   "cell_type": "code",
   "execution_count": 40,
   "metadata": {},
   "outputs": [
    {
     "data": {
      "text/plain": [
       "['Name', 'Telephone Numbers']"
      ]
     },
     "execution_count": 40,
     "metadata": {},
     "output_type": "execute_result"
    }
   ],
   "source": [
    "columns"
   ]
  },
  {
   "cell_type": "code",
   "execution_count": 41,
   "metadata": {},
   "outputs": [],
   "source": [
    "datas = [[td.text for td in tr.find_all(\"td\")] for tr in raw_datas]"
   ]
  },
  {
   "cell_type": "code",
   "execution_count": 42,
   "metadata": {},
   "outputs": [
    {
     "data": {
      "text/plain": [
       "[['Police Control', '100'],\n",
       " ['Police Emergency Number', '4228435'],\n",
       " ['Metropolitan Police Range (Kathmandu)', '4261945/4261790'],\n",
       " ['Metropolitan Police Range (Lalitpur)', '5521207'],\n",
       " ['Metropolitan Police Range (Bhaktapur)', '6614821'],\n",
       " ['Paropakar Ambulance Service', '4260859'],\n",
       " ['Lalitpur Redcross Ambulance Service', '5545666'],\n",
       " ['Bishal Bazar Ambulance Service', '4244121'],\n",
       " ['Redcross Ambulance Service', '4228094'],\n",
       " ['Agrawal Sewa Centre', '\\n4424875\\n'],\n",
       " ['Aasara Drug Rehabilitation Center', '01-4384881']]"
      ]
     },
     "execution_count": 42,
     "metadata": {},
     "output_type": "execute_result"
    }
   ],
   "source": [
    "datas"
   ]
  },
  {
   "cell_type": "code",
   "execution_count": 47,
   "metadata": {},
   "outputs": [],
   "source": [
    "datas2 = [[td.text for td in tr.find_all(\"td\")] for tr in raw_datas2]"
   ]
  },
  {
   "cell_type": "code",
   "execution_count": 49,
   "metadata": {},
   "outputs": [
    {
     "data": {
      "text/plain": [
       "list"
      ]
     },
     "execution_count": 49,
     "metadata": {},
     "output_type": "execute_result"
    }
   ],
   "source": [
    "type(datas2)"
   ]
  },
  {
   "cell_type": "code",
   "execution_count": 50,
   "metadata": {},
   "outputs": [],
   "source": [
    "joindata = datas+datas2"
   ]
  },
  {
   "cell_type": "code",
   "execution_count": 52,
   "metadata": {},
   "outputs": [
    {
     "data": {
      "text/plain": [
       "43"
      ]
     },
     "execution_count": 52,
     "metadata": {},
     "output_type": "execute_result"
    }
   ],
   "source": [
    "len(joindata)"
   ]
  },
  {
   "cell_type": "code",
   "execution_count": 53,
   "metadata": {},
   "outputs": [],
   "source": [
    "def get_dict(**datas):\n",
    "    columns = datas.get('columns')\n",
    "    rows = datas.get('rows')\n",
    "    return [dict(zip(columns, row)) for row in rows]"
   ]
  },
  {
   "cell_type": "code",
   "execution_count": 54,
   "metadata": {},
   "outputs": [],
   "source": [
    "datas = get_dict(columns=columns, rows=joindata)"
   ]
  },
  {
   "cell_type": "code",
   "execution_count": 55,
   "metadata": {},
   "outputs": [],
   "source": [
    "def write_to_csv(datas):\n",
    "    with open('nepal_emergency_number.csv', 'w') as write_file:\n",
    "        writer = csv.DictWriter(write_file, fieldnames=datas[0].keys())\n",
    "        writer.writeheader()\n",
    "        writer.writerows(datas)\n",
    "        \n",
    "write_to_csv(datas)"
   ]
  },
  {
   "cell_type": "code",
   "execution_count": null,
   "metadata": {},
   "outputs": [],
   "source": []
  }
 ],
 "metadata": {
  "kernelspec": {
   "display_name": "Python 3",
   "language": "python",
   "name": "python3"
  },
  "language_info": {
   "codemirror_mode": {
    "name": "ipython",
    "version": 3
   },
   "file_extension": ".py",
   "mimetype": "text/x-python",
   "name": "python",
   "nbconvert_exporter": "python",
   "pygments_lexer": "ipython3",
   "version": "3.7.4"
  }
 },
 "nbformat": 4,
 "nbformat_minor": 2
}
