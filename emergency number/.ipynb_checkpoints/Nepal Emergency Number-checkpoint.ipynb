{
 "cells": [
  {
   "cell_type": "code",
   "execution_count": 2,
   "metadata": {},
   "outputs": [],
   "source": [
    "import requests"
   ]
  },
  {
   "cell_type": "code",
   "execution_count": 3,
   "metadata": {},
   "outputs": [],
   "source": [
    "from bs4 import BeautifulSoup"
   ]
  },
  {
   "cell_type": "code",
   "execution_count": 4,
   "metadata": {},
   "outputs": [],
   "source": [
    "import csv"
   ]
  },
  {
   "cell_type": "code",
   "execution_count": 5,
   "metadata": {},
   "outputs": [],
   "source": [
    "base_url = \"https://www.nepalpolice.gov.np/index.php/safety-security-tips/emergency-numbers\""
   ]
  },
  {
   "cell_type": "code",
   "execution_count": 6,
   "metadata": {},
   "outputs": [],
   "source": [
    "response = requests.get(base_url)"
   ]
  },
  {
   "cell_type": "code",
   "execution_count": 7,
   "metadata": {},
   "outputs": [
    {
     "data": {
      "text/plain": [
       "<Response [200]>"
      ]
     },
     "execution_count": 7,
     "metadata": {},
     "output_type": "execute_result"
    }
   ],
   "source": [
    "response"
   ]
  },
  {
   "cell_type": "code",
   "execution_count": 8,
   "metadata": {},
   "outputs": [],
   "source": [
    "data = BeautifulSoup(response.content,'lxml')"
   ]
  },
  {
   "cell_type": "code",
   "execution_count": 9,
   "metadata": {},
   "outputs": [
    {
     "data": {
      "text/plain": [
       "'Emergency Numbers'"
      ]
     },
     "execution_count": 9,
     "metadata": {},
     "output_type": "execute_result"
    }
   ],
   "source": [
    "data.title.text"
   ]
  },
  {
   "cell_type": "code",
   "execution_count": 10,
   "metadata": {},
   "outputs": [],
   "source": [
    "tables = data.find_all(\"table\")"
   ]
  },
  {
   "cell_type": "code",
   "execution_count": 11,
   "metadata": {},
   "outputs": [
    {
     "data": {
      "text/plain": [
       "[<table>\n",
       " <tbody>\n",
       " <tr>\n",
       " <td><img alt=\"nepal_police_flag\" height=\"101\" src=\"/images/flaganimation-2074-09-19.gif\" width=\"207\"/></td>\n",
       " <td><img alt=\"nepal_police_banner\" height=\"81\" src=\"/images/banner-final-2076-04-28.jpg\" style=\"margin-bottom: -15px;\" width=\"536\"/>         </td>\n",
       " <td><img alt=\"\" height=\"128\" src=\"/images/6.png\" width=\"160\"/></td>\n",
       " </tr>\n",
       " </tbody>\n",
       " </table>, <table border=\"0\" cellpadding=\"0\" cellspacing=\"0\">\n",
       " <tbody style=\"text-align: left;\">\n",
       " <tr style=\"text-align: left; background-color: #dddddd;\">\n",
       " <td style=\"text-align: left;\"><span style=\"font-size: 10pt;\"><strong>Name</strong></span></td>\n",
       " <td style=\"text-align: left;\"><span style=\"font-size: 10pt;\"><strong>Telephone Numbers</strong></span></td>\n",
       " </tr>\n",
       " <tr style=\"text-align: left;\">\n",
       " <td style=\"text-align: left;\"><span style=\"font-size: 10pt;\">Police Control</span></td>\n",
       " <td style=\"text-align: left;\"><span style=\"font-size: 10pt;\">100</span></td>\n",
       " </tr>\n",
       " <tr style=\"text-align: left; background-color: #eeeeee;\">\n",
       " <td style=\"text-align: left;\"><span style=\"font-size: 10pt;\">Police Emergency Number</span></td>\n",
       " <td style=\"text-align: left;\"><span style=\"font-size: 10pt;\">4228435</span></td>\n",
       " </tr>\n",
       " <tr style=\"text-align: left;\">\n",
       " <td style=\"text-align: left;\"><span style=\"font-size: 10pt;\">Metropolitan Police Range (Kathmandu)</span></td>\n",
       " <td style=\"text-align: left;\"><span style=\"font-size: 10pt;\">4261945/4261790</span></td>\n",
       " </tr>\n",
       " <tr style=\"text-align: left; background-color: #eeeeee;\">\n",
       " <td style=\"text-align: left;\"><span style=\"font-size: 10pt;\">Metropolitan Police Range (Lalitpur)</span></td>\n",
       " <td style=\"text-align: left;\"><span style=\"font-size: 10pt;\">5521207</span></td>\n",
       " </tr>\n",
       " <tr style=\"text-align: left;\">\n",
       " <td style=\"text-align: left;\"><span style=\"font-size: 10pt;\">Metropolitan Police Range (Bhaktapur)</span></td>\n",
       " <td style=\"text-align: left;\"><span style=\"font-size: 10pt;\">6614821</span></td>\n",
       " </tr>\n",
       " <tr style=\"text-align: left; background-color: #eeeeee;\">\n",
       " <td style=\"text-align: left;\"><span style=\"font-size: 10pt;\">Paropakar Ambulance Service</span></td>\n",
       " <td style=\"text-align: left;\"><span style=\"font-size: 10pt;\">4260859</span></td>\n",
       " </tr>\n",
       " <tr style=\"text-align: left;\">\n",
       " <td style=\"text-align: left;\"><span style=\"font-size: 10pt;\">Lalitpur Redcross Ambulance Service</span></td>\n",
       " <td style=\"text-align: left;\"><span style=\"font-size: 10pt;\">5545666</span></td>\n",
       " </tr>\n",
       " <tr style=\"text-align: left; background-color: #eeeeee;\">\n",
       " <td style=\"text-align: left;\"><span style=\"font-size: 10pt;\">Bishal Bazar Ambulance Service</span></td>\n",
       " <td style=\"text-align: left;\"><span style=\"font-size: 10pt;\">4244121</span></td>\n",
       " </tr>\n",
       " <tr style=\"text-align: left;\">\n",
       " <td style=\"text-align: left;\"><span style=\"font-size: 10pt;\">Redcross Ambulance Service</span></td>\n",
       " <td style=\"text-align: left;\"><span style=\"font-size: 10pt;\">4228094</span></td>\n",
       " </tr>\n",
       " <tr style=\"text-align: left; background-color: #eeeeee;\">\n",
       " <td style=\"text-align: left;\"><span style=\"font-size: 10pt;\">Agrawal Sewa Centre</span></td>\n",
       " <td style=\"text-align: left;\">\n",
       " <p><span style=\"font-size: 10pt;\">4424875</span></p>\n",
       " </td>\n",
       " </tr>\n",
       " <tr>\n",
       " <td><span style=\"font-size: 10pt;\">Aasara Drug Rehabilitation Center</span></td>\n",
       " <td><span style=\"font-size: 10pt;\">01-4384881</span></td>\n",
       " </tr>\n",
       " </tbody>\n",
       " </table>, <table border=\"0\" cellpadding=\"0\" cellspacing=\"0\">\n",
       " <tbody>\n",
       " <tr style=\"background-color: #dddddd;\">\n",
       " <td><span style=\"font-size: 10pt;\"><strong>Name</strong></span></td>\n",
       " <td><span style=\"font-size: 10pt;\"><strong>Telephone Numbers</strong></span></td>\n",
       " </tr>\n",
       " <tr>\n",
       " <td><span style=\"font-size: 10pt;\">Nepal Eye Bank</span></td>\n",
       " <td><span style=\"font-size: 10pt;\">4493684</span></td>\n",
       " </tr>\n",
       " <tr style=\"background-color: #eeeeee;\">\n",
       " <td><span style=\"font-size: 10pt;\">Nepal Eye Hospital</span></td>\n",
       " <td><span style=\"font-size: 10pt;\">4250691</span></td>\n",
       " </tr>\n",
       " <tr>\n",
       " <td><span style=\"font-size: 10pt;\">Tilganga Eye Hospital</span></td>\n",
       " <td><span style=\"font-size: 10pt;\">4423684</span></td>\n",
       " </tr>\n",
       " <tr style=\"background-color: #eeeeee;\">\n",
       " <td><span style=\"font-size: 10pt;\">Bir Hospital</span></td>\n",
       " <td><span style=\"font-size: 10pt;\">4223807/4221988</span></td>\n",
       " </tr>\n",
       " <tr>\n",
       " <td><span style=\"font-size: 10pt;\">Nepal Police Hospital</span></td>\n",
       " <td><span style=\"font-size: 10pt;\">4412430/4412530/4412630</span></td>\n",
       " </tr>\n",
       " <tr style=\"background-color: #eeeeee;\">\n",
       " <td><span style=\"font-size: 10pt;\">TU Teaching Hospital</span></td>\n",
       " <td><span style=\"font-size: 10pt;\">4412404/4412505</span></td>\n",
       " </tr>\n",
       " <tr>\n",
       " <td><span style=\"font-size: 10pt;\">Maternity Hospital</span></td>\n",
       " <td><span style=\"font-size: 10pt;\">4253276</span></td>\n",
       " </tr>\n",
       " <tr style=\"background-color: #eeeeee;\">\n",
       " <td><span style=\"font-size: 10pt;\">Teku Hospital</span></td>\n",
       " <td><span style=\"font-size: 10pt;\">4253396</span></td>\n",
       " </tr>\n",
       " <tr>\n",
       " <td><span style=\"font-size: 10pt;\">Patan Hospital</span></td>\n",
       " <td><span style=\"font-size: 10pt;\">5522278/5522266</span></td>\n",
       " </tr>\n",
       " <tr style=\"background-color: #eeeeee;\">\n",
       " <td><span style=\"font-size: 10pt;\">Bhaktapur Hospital</span></td>\n",
       " <td><span style=\"font-size: 10pt;\">6610676</span></td>\n",
       " </tr>\n",
       " <tr>\n",
       " <td><span style=\"font-size: 10pt;\">Mental Hospital</span></td>\n",
       " <td><span style=\"font-size: 10pt;\">5521333</span></td>\n",
       " </tr>\n",
       " <tr style=\"background-color: #eeeeee;\">\n",
       " <td><span style=\"font-size: 10pt;\">Kanti Children Hospital</span></td>\n",
       " <td><span style=\"font-size: 10pt;\">4414798/4427452</span></td>\n",
       " </tr>\n",
       " <tr>\n",
       " <td><span style=\"font-size: 10pt;\">Kathmandu Model Hospital</span></td>\n",
       " <td><span style=\"font-size: 10pt;\">4240805</span></td>\n",
       " </tr>\n",
       " <tr style=\"background-color: #eeeeee;\">\n",
       " <td><span style=\"font-size: 10pt;\">B&amp;B Hospital </span></td>\n",
       " <td><span style=\"font-size: 10pt;\">5533206</span></td>\n",
       " </tr>\n",
       " <tr>\n",
       " <td><span style=\"font-size: 10pt;\">Medicare National Hospital </span></td>\n",
       " <td><span style=\"font-size: 10pt;\">4467067</span></td>\n",
       " </tr>\n",
       " <tr style=\"background-color: #eeeeee;\">\n",
       " <td><span style=\"font-size: 10pt;\">Medicare National Hospital - Ambulance </span></td>\n",
       " <td><span style=\"font-size: 10pt;\">4467067</span></td>\n",
       " </tr>\n",
       " <tr>\n",
       " <td><span style=\"font-size: 10pt;\">Nepal Orthopaedic Hospital </span></td>\n",
       " <td><span style=\"font-size: 10pt;\">4493725</span></td>\n",
       " </tr>\n",
       " <tr style=\"background-color: #eeeeee;\">\n",
       " <td><span style=\"font-size: 10pt;\">Kathmandu Medical College (Teaching Hospital - Sinamangal)</span></td>\n",
       " <td><span style=\"font-size: 10pt;\">4476152</span></td>\n",
       " </tr>\n",
       " <tr>\n",
       " <td><span style=\"font-size: 10pt;\">Nepal Medical College (Teaching Hospital - Jorpati) </span></td>\n",
       " <td><span style=\"font-size: 10pt;\">4486008</span></td>\n",
       " </tr>\n",
       " <tr style=\"background-color: #eeeeee;\">\n",
       " <td><span style=\"font-size: 10pt;\">Kantipur Dental Hospital, Maharajgunj </span></td>\n",
       " <td><span style=\"font-size: 10pt;\">4371603</span></td>\n",
       " </tr>\n",
       " <tr>\n",
       " <td><span style=\"font-size: 10pt;\">Kantipur Hospital, New Baneshwor </span></td>\n",
       " <td><span style=\"font-size: 10pt;\">4498757</span></td>\n",
       " </tr>\n",
       " <tr style=\"background-color: #eeeeee;\">\n",
       " <td><span style=\"font-size: 10pt;\">Hospital and Research Centre </span></td>\n",
       " <td><span style=\"font-size: 10pt;\">4476225</span></td>\n",
       " </tr>\n",
       " <tr>\n",
       " <td><span style=\"font-size: 10pt;\">Norvic Hospital </span></td>\n",
       " <td><span style=\"font-size: 10pt;\">4258554</span></td>\n",
       " </tr>\n",
       " <tr style=\"background-color: #eeeeee;\">\n",
       " <td><span style=\"font-size: 10pt;\">Martyr Gangalal National Heart Centre </span></td>\n",
       " <td><span style=\"font-size: 10pt;\">4371322/4371374</span></td>\n",
       " </tr>\n",
       " <tr>\n",
       " <td><span style=\"font-size: 10pt;\">Life Care Hospital </span></td>\n",
       " <td><span style=\"font-size: 10pt;\">4227735</span></td>\n",
       " </tr>\n",
       " <tr style=\"background-color: #eeeeee;\">\n",
       " <td><span style=\"font-size: 10pt;\">Miteri Hospital </span></td>\n",
       " <td><span style=\"font-size: 10pt;\">4280555/4222305</span></td>\n",
       " </tr>\n",
       " <tr>\n",
       " <td><span style=\"font-size: 10pt;\">Capital Hospital </span></td>\n",
       " <td><span style=\"font-size: 10pt;\">4244022</span></td>\n",
       " </tr>\n",
       " <tr style=\"background-color: #eeeeee;\">\n",
       " <td><span style=\"font-size: 10pt;\">Shree Satya Sai Centre </span></td>\n",
       " <td><span style=\"font-size: 10pt;\">4498035</span></td>\n",
       " </tr>\n",
       " <tr>\n",
       " <td><span style=\"font-size: 10pt;\">Bhaktapur Redcross </span></td>\n",
       " <td><span style=\"font-size: 10pt;\">6612266</span></td>\n",
       " </tr>\n",
       " <tr style=\"background-color: #eeeeee;\">\n",
       " <td><span style=\"font-size: 10pt;\">National Kidney Centre </span></td>\n",
       " <td><span style=\"font-size: 10pt;\">4429866/4426016</span></td>\n",
       " </tr>\n",
       " <tr>\n",
       " <td><span style=\"font-size: 10pt;\">Fire Brigade </span></td>\n",
       " <td><span style=\"font-size: 10pt;\">101</span></td>\n",
       " </tr>\n",
       " <tr style=\"background-color: #eeeeee;\">\n",
       " <td><span style=\"font-size: 10pt;\">Blood Bank </span></td>\n",
       " <td><span style=\"font-size: 10pt;\">4225344</span></td>\n",
       " </tr>\n",
       " </tbody>\n",
       " </table>]"
      ]
     },
     "execution_count": 11,
     "metadata": {},
     "output_type": "execute_result"
    }
   ],
   "source": [
    "tables"
   ]
  },
  {
   "cell_type": "code",
   "execution_count": 15,
   "metadata": {},
   "outputs": [
    {
     "data": {
      "text/plain": [
       "3"
      ]
     },
     "execution_count": 15,
     "metadata": {},
     "output_type": "execute_result"
    }
   ],
   "source": [
    "len(tables)"
   ]
  },
  {
   "cell_type": "code",
   "execution_count": 21,
   "metadata": {},
   "outputs": [],
   "source": [
    "rows = tables[1].find_all(\"tr\")"
   ]
  },
  {
   "cell_type": "code",
   "execution_count": 58,
   "metadata": {},
   "outputs": [
    {
     "data": {
      "text/plain": [
       "12"
      ]
     },
     "execution_count": 58,
     "metadata": {},
     "output_type": "execute_result"
    }
   ],
   "source": [
    "len(rows)"
   ]
  },
  {
   "cell_type": "code",
   "execution_count": 23,
   "metadata": {},
   "outputs": [],
   "source": [
    "rows2 = tables[2].find_all(\"tr\")"
   ]
  },
  {
   "cell_type": "code",
   "execution_count": 25,
   "metadata": {},
   "outputs": [
    {
     "data": {
      "text/plain": [
       "33"
      ]
     },
     "execution_count": 25,
     "metadata": {},
     "output_type": "execute_result"
    }
   ],
   "source": [
    "len(rows2)"
   ]
  },
  {
   "cell_type": "code",
   "execution_count": 38,
   "metadata": {},
   "outputs": [],
   "source": [
    "raw_columns, raw_datas, raw_datas2 = rows[0], rows[1:], rows2[1:]"
   ]
  },
  {
   "cell_type": "code",
   "execution_count": 39,
   "metadata": {},
   "outputs": [],
   "source": [
    "columns = [data.text for data in raw_columns.find_all(\"td\")]"
   ]
  },
  {
   "cell_type": "code",
   "execution_count": 40,
   "metadata": {},
   "outputs": [
    {
     "data": {
      "text/plain": [
       "['Name', 'Telephone Numbers']"
      ]
     },
     "execution_count": 40,
     "metadata": {},
     "output_type": "execute_result"
    }
   ],
   "source": [
    "columns"
   ]
  },
  {
   "cell_type": "code",
   "execution_count": 41,
   "metadata": {},
   "outputs": [],
   "source": [
    "datas = [[td.text for td in tr.find_all(\"td\")] for tr in raw_datas]"
   ]
  },
  {
   "cell_type": "code",
   "execution_count": 42,
   "metadata": {},
   "outputs": [
    {
     "data": {
      "text/plain": [
       "[['Police Control', '100'],\n",
       " ['Police Emergency Number', '4228435'],\n",
       " ['Metropolitan Police Range (Kathmandu)', '4261945/4261790'],\n",
       " ['Metropolitan Police Range (Lalitpur)', '5521207'],\n",
       " ['Metropolitan Police Range (Bhaktapur)', '6614821'],\n",
       " ['Paropakar Ambulance Service', '4260859'],\n",
       " ['Lalitpur Redcross Ambulance Service', '5545666'],\n",
       " ['Bishal Bazar Ambulance Service', '4244121'],\n",
       " ['Redcross Ambulance Service', '4228094'],\n",
       " ['Agrawal Sewa Centre', '\\n4424875\\n'],\n",
       " ['Aasara Drug Rehabilitation Center', '01-4384881']]"
      ]
     },
     "execution_count": 42,
     "metadata": {},
     "output_type": "execute_result"
    }
   ],
   "source": [
    "datas"
   ]
  },
  {
   "cell_type": "code",
   "execution_count": 47,
   "metadata": {},
   "outputs": [],
   "source": [
    "datas2 = [[td.text for td in tr.find_all(\"td\")] for tr in raw_datas2]"
   ]
  },
  {
   "cell_type": "code",
   "execution_count": 49,
   "metadata": {},
   "outputs": [
    {
     "data": {
      "text/plain": [
       "list"
      ]
     },
     "execution_count": 49,
     "metadata": {},
     "output_type": "execute_result"
    }
   ],
   "source": [
    "type(datas2)"
   ]
  },
  {
   "cell_type": "code",
   "execution_count": 50,
   "metadata": {},
   "outputs": [],
   "source": [
    "joindata = datas+datas2"
   ]
  },
  {
   "cell_type": "code",
   "execution_count": 52,
   "metadata": {},
   "outputs": [
    {
     "data": {
      "text/plain": [
       "43"
      ]
     },
     "execution_count": 52,
     "metadata": {},
     "output_type": "execute_result"
    }
   ],
   "source": [
    "len(joindata)"
   ]
  },
  {
   "cell_type": "code",
   "execution_count": 53,
   "metadata": {},
   "outputs": [],
   "source": [
    "def get_dict(**datas):\n",
    "    columns = datas.get('columns')\n",
    "    rows = datas.get('rows')\n",
    "    return [dict(zip(columns, row)) for row in rows]"
   ]
  },
  {
   "cell_type": "code",
   "execution_count": 54,
   "metadata": {},
   "outputs": [],
   "source": [
    "datas = get_dict(columns=columns, rows=joindata)"
   ]
  },
  {
   "cell_type": "code",
   "execution_count": 55,
   "metadata": {},
   "outputs": [],
   "source": [
    "def write_to_csv(datas):\n",
    "    with open('nepal_emergency_number.csv', 'w') as write_file:\n",
    "        writer = csv.DictWriter(write_file, fieldnames=datas[0].keys())\n",
    "        writer.writeheader()\n",
    "        writer.writerows(datas)\n",
    "        \n",
    "write_to_csv(datas)"
   ]
  },
  {
   "cell_type": "code",
   "execution_count": null,
   "metadata": {},
   "outputs": [],
   "source": []
  }
 ],
 "metadata": {
  "kernelspec": {
   "display_name": "Python 3",
   "language": "python",
   "name": "python3"
  },
  "language_info": {
   "codemirror_mode": {
    "name": "ipython",
    "version": 3
   },
   "file_extension": ".py",
   "mimetype": "text/x-python",
   "name": "python",
   "nbconvert_exporter": "python",
   "pygments_lexer": "ipython3",
   "version": "3.7.4"
  }
 },
 "nbformat": 4,
 "nbformat_minor": 2
}
